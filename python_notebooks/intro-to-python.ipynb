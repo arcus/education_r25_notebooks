{
 "cells": [
  {
   "cell_type": "markdown",
   "metadata": {},
   "source": [
    "# Introduction to Python: Jupyter Notebooks\n",
    "\n",
    "Jupyter notebooks are a great way use Python for data analysis! Code cells are interspersed with text written in the formatting syntax Markdown. The Markdown cells can help explain your reasoning and provide other relevant context. The code cells can contain as much or as little code as you like, and the output if a cell is displayed below when the cell is run. To run a cell, select it with your cursor and then hit the \"Run\" button in the menu above (or use the keyboard shortcut Shift+Enter). \n",
    "\n",
    "Switch between Markdown and code with the drop-down menu in the tool bar above."
   ]
  },
  {
   "cell_type": "code",
   "execution_count": null,
   "metadata": {},
   "outputs": [],
   "source": [
    "print(\"Hello, World!\")"
   ]
  },
  {
   "cell_type": "markdown",
   "metadata": {},
   "source": [
    "To run a cell, select the cell and hit the \"Run\" button in the menu above; you can also use the Shift+Enter keyboard shortcut.\n",
    "\n",
    "If your code chunk produces an output, you'll see it displayed beneath the code chunk- but don't worry if nothing is displayed! Not all code produces output (importing libraries and variable assignments are two examples of code that doesn't produce an output). If there are any errors, they will also be displayed. In the code cell above, the `print()` function prints something to the screen (in this case, the string \"Hello, World!\").\n",
    "\n",
    "In the code cell above, we passed a string directly into the `print()` function. We can also assign values to variables and pass *those* to functions. For example, we can assign a list (let's say a list of fruits and vegetables) to a variable, and then pass that variable into the built-in python function `len()` to get the number of items in that list:"
   ]
  },
  {
   "cell_type": "code",
   "execution_count": null,
   "metadata": {},
   "outputs": [],
   "source": [
    "produce = [\"tomato\", \"squash\", \"apple\", \"cucumber\", \"peach\", \"spinach\"]\n",
    "len(produce)"
   ]
  },
  {
   "cell_type": "markdown",
   "metadata": {},
   "source": [
    "Lists in Python are surrounded by square brackets [ ] and the items in the list are separated by commas. \n",
    "\n",
    "Variables are useful for saving values for use later, usually either because it is a value that may change based on user input or because we want to use the value repeatedly in our code and we don't want to have to type it multiple times (and potentially change it in multiple places-- this can lead to errors). \n",
    "\n",
    "Note that we have put the strings (strings are sequences of characters) in quotation marks; this is important so that Python knows that your strings aren't variables. Our variable `produce` doesn't need to be in quotation marks. Strings are a specfic **data type** in Python; other data types include integers, floats (or decimal numbers), lists, and boolean (like True or False), but there are many more. The built-in function `type()` will give you the data type of its argument."
   ]
  },
  {
   "cell_type": "code",
   "execution_count": null,
   "metadata": {},
   "outputs": [],
   "source": [
    "num = 7.9\n",
    "type(num)"
   ]
  },
  {
   "cell_type": "markdown",
   "metadata": {},
   "source": [
    "There are also Python functions that allow you to perform mathmatical operations on numbers, such as `sum()`. Python uses the basic mathmatical operations (`+`, `-`, `*`, `/`), but a function like `sum()` takes a collection of values (such as a list) as its argument. "
   ]
  },
  {
   "cell_type": "code",
   "execution_count": null,
   "metadata": {},
   "outputs": [],
   "source": [
    "numbers = [2.0, 6.6, 3.7, 9.8, 13.4]\n",
    "sum(numbers)"
   ]
  },
  {
   "cell_type": "markdown",
   "metadata": {},
   "source": [
    "Along with `sum()`, there are a variety of built-in Python functions, and you can explore them here: https://docs.python.org/3/library/functions.html.\n",
    "\n",
    "### Lists and Loops\n",
    "\n",
    "A Python list is *interable object*, or an object whose members can be returned one at a time. This is important for loops. Loops are extremely useful in Python, especially if you want to perform the same operation on many values. \n",
    "\n",
    "For a sense of how loops work in Python, here is a simple example. Let's say there are five children at a party, and they each have a certain number of pieces of candy. Next, let's say that we give each child 5 more pieces of candy. Using a simple loop, we can get a list of how many total pieces of candy each child has now. "
   ]
  },
  {
   "cell_type": "code",
   "execution_count": null,
   "metadata": {},
   "outputs": [],
   "source": [
    "starting_candy = [3, 10, 11, 6, 7]\n",
    "total_candy_now = [] #Here we are initiating an empty list, so that we can add elements to it later\n",
    "for i in starting_candy: \n",
    "    j = i + 5\n",
    "    total_candy_now.append(j)\n",
    "total_candy_now"
   ]
  },
  {
   "cell_type": "markdown",
   "metadata": {},
   "source": [
    "This example loops through the list of numbers, adds 5 to each number one at a time, and adds the sum to a new list using the `append()` method for lists. Finally, we printed the new list to our screen. \n",
    "\n",
    "**Tip**: A Python \"method\" is very similar to a function, but is not *quite* the same. The exact differences are not important to us right now, except that there are differences in syntax. A function can be called with just its name, followed by the arguments in parentheses (like `print(\"hello world\")`). Methods cannot be called by themselves; they are always called on an object, with the syntax `object.method()`.\n",
    "\n",
    "### If else statements\n",
    "\n",
    "Sometimes when you're working with Python, you might want your code to do different things if different conditions are met. You handle this with an `if else` statement. Let's look at a simple example:"
   ]
  },
  {
   "cell_type": "code",
   "execution_count": null,
   "metadata": {},
   "outputs": [],
   "source": [
    "name = \"Pythonista\"\n",
    "if type(name) == str:\n",
    "    print(\"Welcome, \"+ name+\"!\")\n",
    "else:\n",
    "    print(\"Please enter a name.\")"
   ]
  },
  {
   "cell_type": "markdown",
   "metadata": {},
   "source": [
    "Try changing `name` in the code cell above to a number and see what happens!"
   ]
  },
  {
   "cell_type": "code",
   "execution_count": null,
   "metadata": {},
   "outputs": [],
   "source": []
  }
 ],
 "metadata": {
  "kernelspec": {
   "display_name": "Python 3",
   "language": "python",
   "name": "python3"
  },
  "language_info": {
   "codemirror_mode": {
    "name": "ipython",
    "version": 3
   },
   "file_extension": ".py",
   "mimetype": "text/x-python",
   "name": "python",
   "nbconvert_exporter": "python",
   "pygments_lexer": "ipython3",
   "version": "3.8.11"
  }
 },
 "nbformat": 4,
 "nbformat_minor": 4
}
