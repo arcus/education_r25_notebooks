{
 "cells": [
  {
   "cell_type": "markdown",
   "metadata": {},
   "source": [
    "# Introduction to Python: Jupyter Notebooks\n",
    "\n",
    "Jupyter notebooks are a great way use Python for data analysis! Code cells are interspersed with text written in the formatting syntax Markdown. The Markdown cells can help explain your reasoning and provide other relevant context. The code cells can contain as much or as little code as you like, and the output if a cell is displayed below when the cell is run. To run a cell, select it with your cursor and then hit the \"Run\" button in the menu above (or use the keyboard shortcut Shift+Enter). \n",
    "\n",
    "Switch between Markdown and code with the drop-down menu in the tool bar above.\n",
    "\n",
    "The first thing to do is load the libraries that we need. Python libraries add additional functionality that isn't included in the base language. The libraries we're loading below are particularly useful for data analysis. "
   ]
  },
  {
   "cell_type": "code",
   "execution_count": null,
   "metadata": {},
   "outputs": [],
   "source": [
    "#This is a comment, which is a way to add text within a code chunk \n",
    "\n",
    "import pandas as pd #pandas is a very helpful library for data science\n",
    "import seaborn as sns #helps you make beautiful data visualizations"
   ]
  },
  {
   "cell_type": "markdown",
   "metadata": {},
   "source": [
    "If your code chunk produces an output, you'll see it displayed beneath the code chunk- but don't worry if nothing is displayed! Not all code produces output (importing libraries, for example). If there are any errors, they will also be displayed.\n",
    "\n",
    "Next, we need to get some data to manipulate. Many libraries, including seaborn, have built-in datasets to practice on. We'll be using the \"titanic\" dataset. \n",
    "\n",
    "Alternatively, if you have a file containing tabular data (such as a CSV), you could use that instead. To load a CSV, you would run `read_csv(\"your_filename.csv\")` (to look at the documentation, check out https://pandas.pydata.org/docs/reference/api/pandas.read_csv.html).\n",
    "\n",
    "When we're loading the dataset, we'll also want to assign it to a variable, a handle that we can use later to refer back to that dataset. In this case, we'll call our titantic dataset \"titantic_df\"."
   ]
  },
  {
   "cell_type": "code",
   "execution_count": null,
   "metadata": {},
   "outputs": [],
   "source": [
    "titanic_df = sns.load_dataset('titanic')\n",
    "titanic_df"
   ]
  },
  {
   "cell_type": "markdown",
   "metadata": {},
   "source": [
    "The variable `titanic_df` contains a **data frame** (a 2D data structure that has rows and columns) with the data from the \"titantic\" dataset. The pandas library is designed to work with data frames. \n",
    "\n",
    "You can see above that if we run the name of the variable we just assigned to our dataset, we can see the first few and the last few rows of our new dataframe, giving us a sense of what each column and row contains. \n",
    "\n",
    "Now that we've got our data frame, we can manipulate, analyse, and visualize however we want! Maybe we're interested in the fares that people paid for their trip. We can use the `describe()` method from the **pandas** library to get some basic summary statistics about that column. \n",
    "\n",
    "**Tip**: A Python \"method\" is very similar to a function, but is not *quite* the same. The exact differences are not important to us right now, except that there are differences in syntax. A function can be called with just its name, followed by the arguements in parentheses (like `print(\"hello world\")`). Methods cannot be called by themselves; they are always called on an object, with the syntax `object.method()`."
   ]
  },
  {
   "cell_type": "code",
   "execution_count": null,
   "metadata": {},
   "outputs": [],
   "source": [
    "titanic_df['fare'].describe()"
   ]
  },
  {
   "cell_type": "markdown",
   "metadata": {},
   "source": [
    "In Python, you refer to specfic columns within dataframes by referring to the dataframe followed by square brackets [ ] containing the column you want (don't forget the quotation marks!). \n",
    "\n",
    "Next, let's make a simple bar chart looking at the average fare that men, women, and children paid for their trip. We'll use the **seaborn** library for this (for more information about data visualization, see our data vis modules). "
   ]
  },
  {
   "cell_type": "code",
   "execution_count": null,
   "metadata": {},
   "outputs": [],
   "source": [
    "sns.barplot(x = \"who\",\n",
    "            y = \"fare\",\n",
    "            data = titanic_df)"
   ]
  },
  {
   "cell_type": "markdown",
   "metadata": {},
   "source": [
    "With one line of simple code, we were able to make a bar chart with fare on the y-axis, \"who\" on the x-axis (with the possible values of man, woman, or child). Seaborn automatically gave different colors to the bars! There are lots of ways to customize the look of your plots; if you would like to learn more, check out the Data Visualization in Python module. "
   ]
  },
  {
   "cell_type": "code",
   "execution_count": null,
   "metadata": {},
   "outputs": [],
   "source": []
  }
 ],
 "metadata": {
  "kernelspec": {
   "display_name": "Python 3",
   "language": "python",
   "name": "python3"
  },
  "language_info": {
   "codemirror_mode": {
    "name": "ipython",
    "version": 3
   },
   "file_extension": ".py",
   "mimetype": "text/x-python",
   "name": "python",
   "nbconvert_exporter": "python",
   "pygments_lexer": "ipython3",
   "version": "3.8.11"
  }
 },
 "nbformat": 4,
 "nbformat_minor": 4
}
